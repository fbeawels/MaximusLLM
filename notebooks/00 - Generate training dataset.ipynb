{
 "cells": [
  {
   "cell_type": "markdown",
   "metadata": {},
   "source": [
    "# 01 - Generate the training dataset for MaximusLLM"
   ]
  },
  {
   "cell_type": "markdown",
   "metadata": {},
   "source": [
    "## a) Install the Bonito package"
   ]
  },
  {
   "cell_type": "markdown",
   "metadata": {},
   "source": [
    "This package is required to process the documents and create the training dataset.\n",
    "Ensure you use the 0.0.1 branch"
   ]
  },
  {
   "cell_type": "code",
   "execution_count": null,
   "metadata": {},
   "outputs": [],
   "source": [
    "!cd ../modules/\n",
    "!git clone https://github.com/BatsResearch/bonito.git --branch v0.0.1"
   ]
  },
  {
   "cell_type": "markdown",
   "metadata": {},
   "source": [
    "Make sure to change the 'setup.py' file to avoid conflicts with existing dependencies:\n",
    "```\n",
    "requirements = [\n",
    "    \"transformers == 4.42.0\",\n",
    "    \"datasets == 2.20.0\",\n",
    "    \"vllm == 0.5.1\",\n",
    "]\n",
    "```"
   ]
  },
  {
   "cell_type": "code",
   "execution_count": 1,
   "metadata": {},
   "outputs": [
    {
     "name": "stdout",
     "output_type": "stream",
     "text": [
      "Processing /home/franck/Sandbox/03 - Awels Engineering/MaximusLLM/modules/bonito\n",
      "  Preparing metadata (setup.py) ... \u001b[?25ldone\n",
      "\u001b[?25hRequirement already satisfied: transformers==4.42.0 in /home/franck/Applications/miniconda3/envs/MaximusLLM/lib/python3.11/site-packages (from bonito==0.0.1) (4.42.0)\n",
      "Requirement already satisfied: datasets==2.20.0 in /home/franck/Applications/miniconda3/envs/MaximusLLM/lib/python3.11/site-packages (from bonito==0.0.1) (2.20.0)\n",
      "Requirement already satisfied: vllm==0.5.1 in /home/franck/Applications/miniconda3/envs/MaximusLLM/lib/python3.11/site-packages (from bonito==0.0.1) (0.5.1)\n",
      "Requirement already satisfied: filelock in /home/franck/Applications/miniconda3/envs/MaximusLLM/lib/python3.11/site-packages (from datasets==2.20.0->bonito==0.0.1) (3.15.3)\n",
      "Requirement already satisfied: numpy>=1.17 in /home/franck/Applications/miniconda3/envs/MaximusLLM/lib/python3.11/site-packages (from datasets==2.20.0->bonito==0.0.1) (1.26.4)\n",
      "Requirement already satisfied: pyarrow>=15.0.0 in /home/franck/Applications/miniconda3/envs/MaximusLLM/lib/python3.11/site-packages (from datasets==2.20.0->bonito==0.0.1) (16.1.0)\n",
      "Requirement already satisfied: pyarrow-hotfix in /home/franck/Applications/miniconda3/envs/MaximusLLM/lib/python3.11/site-packages (from datasets==2.20.0->bonito==0.0.1) (0.6)\n",
      "Requirement already satisfied: dill<0.3.9,>=0.3.0 in /home/franck/Applications/miniconda3/envs/MaximusLLM/lib/python3.11/site-packages (from datasets==2.20.0->bonito==0.0.1) (0.3.8)\n",
      "Requirement already satisfied: pandas in /home/franck/Applications/miniconda3/envs/MaximusLLM/lib/python3.11/site-packages (from datasets==2.20.0->bonito==0.0.1) (2.2.2)\n",
      "Requirement already satisfied: requests>=2.32.2 in /home/franck/Applications/miniconda3/envs/MaximusLLM/lib/python3.11/site-packages (from datasets==2.20.0->bonito==0.0.1) (2.32.2)\n",
      "Requirement already satisfied: tqdm>=4.66.3 in /home/franck/Applications/miniconda3/envs/MaximusLLM/lib/python3.11/site-packages (from datasets==2.20.0->bonito==0.0.1) (4.66.4)\n",
      "Requirement already satisfied: xxhash in /home/franck/Applications/miniconda3/envs/MaximusLLM/lib/python3.11/site-packages (from datasets==2.20.0->bonito==0.0.1) (3.4.1)\n",
      "Requirement already satisfied: multiprocess in /home/franck/Applications/miniconda3/envs/MaximusLLM/lib/python3.11/site-packages (from datasets==2.20.0->bonito==0.0.1) (0.70.16)\n",
      "Requirement already satisfied: fsspec<=2024.5.0,>=2023.1.0 in /home/franck/Applications/miniconda3/envs/MaximusLLM/lib/python3.11/site-packages (from fsspec[http]<=2024.5.0,>=2023.1.0->datasets==2.20.0->bonito==0.0.1) (2024.5.0)\n",
      "Requirement already satisfied: aiohttp in /home/franck/Applications/miniconda3/envs/MaximusLLM/lib/python3.11/site-packages (from datasets==2.20.0->bonito==0.0.1) (3.9.5)\n",
      "Requirement already satisfied: huggingface-hub>=0.21.2 in /home/franck/Applications/miniconda3/envs/MaximusLLM/lib/python3.11/site-packages (from datasets==2.20.0->bonito==0.0.1) (0.23.4)\n",
      "Requirement already satisfied: packaging in /home/franck/Applications/miniconda3/envs/MaximusLLM/lib/python3.11/site-packages (from datasets==2.20.0->bonito==0.0.1) (24.1)\n",
      "Requirement already satisfied: pyyaml>=5.1 in /home/franck/Applications/miniconda3/envs/MaximusLLM/lib/python3.11/site-packages (from datasets==2.20.0->bonito==0.0.1) (6.0.1)\n",
      "Requirement already satisfied: regex!=2019.12.17 in /home/franck/Applications/miniconda3/envs/MaximusLLM/lib/python3.11/site-packages (from transformers==4.42.0->bonito==0.0.1) (2024.5.15)\n",
      "Requirement already satisfied: tokenizers<0.20,>=0.19 in /home/franck/Applications/miniconda3/envs/MaximusLLM/lib/python3.11/site-packages (from transformers==4.42.0->bonito==0.0.1) (0.19.1)\n",
      "Requirement already satisfied: safetensors>=0.4.1 in /home/franck/Applications/miniconda3/envs/MaximusLLM/lib/python3.11/site-packages (from transformers==4.42.0->bonito==0.0.1) (0.4.3)\n",
      "Requirement already satisfied: cmake>=3.21 in /home/franck/Applications/miniconda3/envs/MaximusLLM/lib/python3.11/site-packages (from vllm==0.5.1->bonito==0.0.1) (3.30.0)\n",
      "Requirement already satisfied: ninja in /home/franck/Applications/miniconda3/envs/MaximusLLM/lib/python3.11/site-packages (from vllm==0.5.1->bonito==0.0.1) (1.11.1.1)\n",
      "Requirement already satisfied: psutil in /home/franck/Applications/miniconda3/envs/MaximusLLM/lib/python3.11/site-packages (from vllm==0.5.1->bonito==0.0.1) (5.9.0)\n",
      "Requirement already satisfied: sentencepiece in /home/franck/Applications/miniconda3/envs/MaximusLLM/lib/python3.11/site-packages (from vllm==0.5.1->bonito==0.0.1) (0.2.0)\n",
      "Requirement already satisfied: py-cpuinfo in /home/franck/Applications/miniconda3/envs/MaximusLLM/lib/python3.11/site-packages (from vllm==0.5.1->bonito==0.0.1) (9.0.0)\n",
      "Requirement already satisfied: fastapi in /home/franck/Applications/miniconda3/envs/MaximusLLM/lib/python3.11/site-packages (from vllm==0.5.1->bonito==0.0.1) (0.111.0)\n",
      "Requirement already satisfied: openai in /home/franck/Applications/miniconda3/envs/MaximusLLM/lib/python3.11/site-packages (from vllm==0.5.1->bonito==0.0.1) (1.35.10)\n",
      "Requirement already satisfied: uvicorn[standard] in /home/franck/Applications/miniconda3/envs/MaximusLLM/lib/python3.11/site-packages (from vllm==0.5.1->bonito==0.0.1) (0.30.1)\n",
      "Requirement already satisfied: pydantic>=2.0 in /home/franck/Applications/miniconda3/envs/MaximusLLM/lib/python3.11/site-packages (from vllm==0.5.1->bonito==0.0.1) (2.6.1)\n",
      "Requirement already satisfied: pillow in /home/franck/Applications/miniconda3/envs/MaximusLLM/lib/python3.11/site-packages (from vllm==0.5.1->bonito==0.0.1) (10.4.0)\n",
      "Requirement already satisfied: prometheus-client>=0.18.0 in /home/franck/Applications/miniconda3/envs/MaximusLLM/lib/python3.11/site-packages (from vllm==0.5.1->bonito==0.0.1) (0.20.0)\n",
      "Requirement already satisfied: prometheus-fastapi-instrumentator>=7.0.0 in /home/franck/Applications/miniconda3/envs/MaximusLLM/lib/python3.11/site-packages (from vllm==0.5.1->bonito==0.0.1) (7.0.0)\n",
      "Requirement already satisfied: tiktoken>=0.6.0 in /home/franck/Applications/miniconda3/envs/MaximusLLM/lib/python3.11/site-packages (from vllm==0.5.1->bonito==0.0.1) (0.7.0)\n",
      "Requirement already satisfied: lm-format-enforcer==0.10.1 in /home/franck/Applications/miniconda3/envs/MaximusLLM/lib/python3.11/site-packages (from vllm==0.5.1->bonito==0.0.1) (0.10.1)\n",
      "Requirement already satisfied: outlines>=0.0.43 in /home/franck/Applications/miniconda3/envs/MaximusLLM/lib/python3.11/site-packages (from vllm==0.5.1->bonito==0.0.1) (0.0.46)\n",
      "Requirement already satisfied: typing-extensions in /home/franck/Applications/miniconda3/envs/MaximusLLM/lib/python3.11/site-packages (from vllm==0.5.1->bonito==0.0.1) (4.11.0)\n",
      "Requirement already satisfied: ray>=2.9 in /home/franck/Applications/miniconda3/envs/MaximusLLM/lib/python3.11/site-packages (from vllm==0.5.1->bonito==0.0.1) (2.31.0)\n",
      "Requirement already satisfied: nvidia-ml-py in /home/franck/Applications/miniconda3/envs/MaximusLLM/lib/python3.11/site-packages (from vllm==0.5.1->bonito==0.0.1) (12.555.43)\n",
      "Requirement already satisfied: torch==2.3.0 in /home/franck/Applications/miniconda3/envs/MaximusLLM/lib/python3.11/site-packages (from vllm==0.5.1->bonito==0.0.1) (2.3.0)\n",
      "Requirement already satisfied: torchvision==0.18.0 in /home/franck/Applications/miniconda3/envs/MaximusLLM/lib/python3.11/site-packages (from vllm==0.5.1->bonito==0.0.1) (0.18.0)\n",
      "Requirement already satisfied: xformers==0.0.26.post1 in /home/franck/Applications/miniconda3/envs/MaximusLLM/lib/python3.11/site-packages (from vllm==0.5.1->bonito==0.0.1) (0.0.26.post1)\n",
      "Requirement already satisfied: vllm-flash-attn==2.5.9 in /home/franck/Applications/miniconda3/envs/MaximusLLM/lib/python3.11/site-packages (from vllm==0.5.1->bonito==0.0.1) (2.5.9)\n",
      "Requirement already satisfied: interegular>=0.3.2 in /home/franck/Applications/miniconda3/envs/MaximusLLM/lib/python3.11/site-packages (from lm-format-enforcer==0.10.1->vllm==0.5.1->bonito==0.0.1) (0.3.3)\n",
      "Requirement already satisfied: sympy in /home/franck/Applications/miniconda3/envs/MaximusLLM/lib/python3.11/site-packages (from torch==2.3.0->vllm==0.5.1->bonito==0.0.1) (1.12.1)\n",
      "Requirement already satisfied: networkx in /home/franck/Applications/miniconda3/envs/MaximusLLM/lib/python3.11/site-packages (from torch==2.3.0->vllm==0.5.1->bonito==0.0.1) (3.3)\n",
      "Requirement already satisfied: jinja2 in /home/franck/Applications/miniconda3/envs/MaximusLLM/lib/python3.11/site-packages (from torch==2.3.0->vllm==0.5.1->bonito==0.0.1) (3.1.4)\n",
      "Requirement already satisfied: nvidia-cuda-nvrtc-cu12==12.1.105 in /home/franck/Applications/miniconda3/envs/MaximusLLM/lib/python3.11/site-packages (from torch==2.3.0->vllm==0.5.1->bonito==0.0.1) (12.1.105)\n",
      "Requirement already satisfied: nvidia-cuda-runtime-cu12==12.1.105 in /home/franck/Applications/miniconda3/envs/MaximusLLM/lib/python3.11/site-packages (from torch==2.3.0->vllm==0.5.1->bonito==0.0.1) (12.1.105)\n",
      "Requirement already satisfied: nvidia-cuda-cupti-cu12==12.1.105 in /home/franck/Applications/miniconda3/envs/MaximusLLM/lib/python3.11/site-packages (from torch==2.3.0->vllm==0.5.1->bonito==0.0.1) (12.1.105)\n",
      "Requirement already satisfied: nvidia-cudnn-cu12==8.9.2.26 in /home/franck/Applications/miniconda3/envs/MaximusLLM/lib/python3.11/site-packages (from torch==2.3.0->vllm==0.5.1->bonito==0.0.1) (8.9.2.26)\n",
      "Requirement already satisfied: nvidia-cublas-cu12==12.1.3.1 in /home/franck/Applications/miniconda3/envs/MaximusLLM/lib/python3.11/site-packages (from torch==2.3.0->vllm==0.5.1->bonito==0.0.1) (12.1.3.1)\n",
      "Requirement already satisfied: nvidia-cufft-cu12==11.0.2.54 in /home/franck/Applications/miniconda3/envs/MaximusLLM/lib/python3.11/site-packages (from torch==2.3.0->vllm==0.5.1->bonito==0.0.1) (11.0.2.54)\n",
      "Requirement already satisfied: nvidia-curand-cu12==10.3.2.106 in /home/franck/Applications/miniconda3/envs/MaximusLLM/lib/python3.11/site-packages (from torch==2.3.0->vllm==0.5.1->bonito==0.0.1) (10.3.2.106)\n",
      "Requirement already satisfied: nvidia-cusolver-cu12==11.4.5.107 in /home/franck/Applications/miniconda3/envs/MaximusLLM/lib/python3.11/site-packages (from torch==2.3.0->vllm==0.5.1->bonito==0.0.1) (11.4.5.107)\n",
      "Requirement already satisfied: nvidia-cusparse-cu12==12.1.0.106 in /home/franck/Applications/miniconda3/envs/MaximusLLM/lib/python3.11/site-packages (from torch==2.3.0->vllm==0.5.1->bonito==0.0.1) (12.1.0.106)\n",
      "Requirement already satisfied: nvidia-nccl-cu12==2.20.5 in /home/franck/Applications/miniconda3/envs/MaximusLLM/lib/python3.11/site-packages (from torch==2.3.0->vllm==0.5.1->bonito==0.0.1) (2.20.5)\n",
      "Requirement already satisfied: nvidia-nvtx-cu12==12.1.105 in /home/franck/Applications/miniconda3/envs/MaximusLLM/lib/python3.11/site-packages (from torch==2.3.0->vllm==0.5.1->bonito==0.0.1) (12.1.105)\n",
      "Requirement already satisfied: triton==2.3.0 in /home/franck/Applications/miniconda3/envs/MaximusLLM/lib/python3.11/site-packages (from torch==2.3.0->vllm==0.5.1->bonito==0.0.1) (2.3.0)\n",
      "Requirement already satisfied: nvidia-nvjitlink-cu12 in /home/franck/Applications/miniconda3/envs/MaximusLLM/lib/python3.11/site-packages (from nvidia-cusolver-cu12==11.4.5.107->torch==2.3.0->vllm==0.5.1->bonito==0.0.1) (12.5.40)\n",
      "Requirement already satisfied: aiosignal>=1.1.2 in /home/franck/Applications/miniconda3/envs/MaximusLLM/lib/python3.11/site-packages (from aiohttp->datasets==2.20.0->bonito==0.0.1) (1.3.1)\n",
      "Requirement already satisfied: attrs>=17.3.0 in /home/franck/Applications/miniconda3/envs/MaximusLLM/lib/python3.11/site-packages (from aiohttp->datasets==2.20.0->bonito==0.0.1) (23.1.0)\n",
      "Requirement already satisfied: frozenlist>=1.1.1 in /home/franck/Applications/miniconda3/envs/MaximusLLM/lib/python3.11/site-packages (from aiohttp->datasets==2.20.0->bonito==0.0.1) (1.4.1)\n",
      "Requirement already satisfied: multidict<7.0,>=4.5 in /home/franck/Applications/miniconda3/envs/MaximusLLM/lib/python3.11/site-packages (from aiohttp->datasets==2.20.0->bonito==0.0.1) (6.0.5)\n",
      "Requirement already satisfied: yarl<2.0,>=1.0 in /home/franck/Applications/miniconda3/envs/MaximusLLM/lib/python3.11/site-packages (from aiohttp->datasets==2.20.0->bonito==0.0.1) (1.9.4)\n",
      "Requirement already satisfied: lark in /home/franck/Applications/miniconda3/envs/MaximusLLM/lib/python3.11/site-packages (from outlines>=0.0.43->vllm==0.5.1->bonito==0.0.1) (1.1.9)\n",
      "Requirement already satisfied: nest-asyncio in /home/franck/Applications/miniconda3/envs/MaximusLLM/lib/python3.11/site-packages (from outlines>=0.0.43->vllm==0.5.1->bonito==0.0.1) (1.6.0)\n",
      "Requirement already satisfied: cloudpickle in /home/franck/Applications/miniconda3/envs/MaximusLLM/lib/python3.11/site-packages (from outlines>=0.0.43->vllm==0.5.1->bonito==0.0.1) (3.0.0)\n",
      "Requirement already satisfied: diskcache in /home/franck/Applications/miniconda3/envs/MaximusLLM/lib/python3.11/site-packages (from outlines>=0.0.43->vllm==0.5.1->bonito==0.0.1) (5.6.3)\n",
      "Requirement already satisfied: numba in /home/franck/Applications/miniconda3/envs/MaximusLLM/lib/python3.11/site-packages (from outlines>=0.0.43->vllm==0.5.1->bonito==0.0.1) (0.60.0)\n",
      "Requirement already satisfied: referencing in /home/franck/Applications/miniconda3/envs/MaximusLLM/lib/python3.11/site-packages (from outlines>=0.0.43->vllm==0.5.1->bonito==0.0.1) (0.30.2)\n",
      "Requirement already satisfied: jsonschema in /home/franck/Applications/miniconda3/envs/MaximusLLM/lib/python3.11/site-packages (from outlines>=0.0.43->vllm==0.5.1->bonito==0.0.1) (4.21.1)\n",
      "Requirement already satisfied: pycountry in /home/franck/Applications/miniconda3/envs/MaximusLLM/lib/python3.11/site-packages (from outlines>=0.0.43->vllm==0.5.1->bonito==0.0.1) (24.6.1)\n",
      "Requirement already satisfied: pyairports in /home/franck/Applications/miniconda3/envs/MaximusLLM/lib/python3.11/site-packages (from outlines>=0.0.43->vllm==0.5.1->bonito==0.0.1) (2.1.1)\n",
      "Requirement already satisfied: starlette<1.0.0,>=0.30.0 in /home/franck/Applications/miniconda3/envs/MaximusLLM/lib/python3.11/site-packages (from prometheus-fastapi-instrumentator>=7.0.0->vllm==0.5.1->bonito==0.0.1) (0.37.2)\n",
      "Requirement already satisfied: annotated-types>=0.4.0 in /home/franck/Applications/miniconda3/envs/MaximusLLM/lib/python3.11/site-packages (from pydantic>=2.0->vllm==0.5.1->bonito==0.0.1) (0.7.0)\n",
      "Requirement already satisfied: pydantic-core==2.16.2 in /home/franck/Applications/miniconda3/envs/MaximusLLM/lib/python3.11/site-packages (from pydantic>=2.0->vllm==0.5.1->bonito==0.0.1) (2.16.2)\n",
      "Requirement already satisfied: click>=7.0 in /home/franck/Applications/miniconda3/envs/MaximusLLM/lib/python3.11/site-packages (from ray>=2.9->vllm==0.5.1->bonito==0.0.1) (8.1.7)\n",
      "Requirement already satisfied: msgpack<2.0.0,>=1.0.0 in /home/franck/Applications/miniconda3/envs/MaximusLLM/lib/python3.11/site-packages (from ray>=2.9->vllm==0.5.1->bonito==0.0.1) (1.0.8)\n",
      "Requirement already satisfied: protobuf!=3.19.5,>=3.15.3 in /home/franck/Applications/miniconda3/envs/MaximusLLM/lib/python3.11/site-packages (from ray>=2.9->vllm==0.5.1->bonito==0.0.1) (4.25.3)\n",
      "Requirement already satisfied: charset-normalizer<4,>=2 in /home/franck/Applications/miniconda3/envs/MaximusLLM/lib/python3.11/site-packages (from requests>=2.32.2->datasets==2.20.0->bonito==0.0.1) (2.0.4)\n",
      "Requirement already satisfied: idna<4,>=2.5 in /home/franck/Applications/miniconda3/envs/MaximusLLM/lib/python3.11/site-packages (from requests>=2.32.2->datasets==2.20.0->bonito==0.0.1) (3.7)\n",
      "Requirement already satisfied: urllib3<3,>=1.21.1 in /home/franck/Applications/miniconda3/envs/MaximusLLM/lib/python3.11/site-packages (from requests>=2.32.2->datasets==2.20.0->bonito==0.0.1) (2.2.2)\n",
      "Requirement already satisfied: certifi>=2017.4.17 in /home/franck/Applications/miniconda3/envs/MaximusLLM/lib/python3.11/site-packages (from requests>=2.32.2->datasets==2.20.0->bonito==0.0.1) (2024.6.2)\n",
      "Requirement already satisfied: fastapi-cli>=0.0.2 in /home/franck/Applications/miniconda3/envs/MaximusLLM/lib/python3.11/site-packages (from fastapi->vllm==0.5.1->bonito==0.0.1) (0.0.4)\n",
      "Requirement already satisfied: httpx>=0.23.0 in /home/franck/Applications/miniconda3/envs/MaximusLLM/lib/python3.11/site-packages (from fastapi->vllm==0.5.1->bonito==0.0.1) (0.27.0)\n",
      "Requirement already satisfied: python-multipart>=0.0.7 in /home/franck/Applications/miniconda3/envs/MaximusLLM/lib/python3.11/site-packages (from fastapi->vllm==0.5.1->bonito==0.0.1) (0.0.9)\n",
      "Requirement already satisfied: ujson!=4.0.2,!=4.1.0,!=4.2.0,!=4.3.0,!=5.0.0,!=5.1.0,>=4.0.1 in /home/franck/Applications/miniconda3/envs/MaximusLLM/lib/python3.11/site-packages (from fastapi->vllm==0.5.1->bonito==0.0.1) (5.10.0)\n",
      "Requirement already satisfied: orjson>=3.2.1 in /home/franck/Applications/miniconda3/envs/MaximusLLM/lib/python3.11/site-packages (from fastapi->vllm==0.5.1->bonito==0.0.1) (3.10.6)\n",
      "Requirement already satisfied: email_validator>=2.0.0 in /home/franck/Applications/miniconda3/envs/MaximusLLM/lib/python3.11/site-packages (from fastapi->vllm==0.5.1->bonito==0.0.1) (2.2.0)\n",
      "Requirement already satisfied: h11>=0.8 in /home/franck/Applications/miniconda3/envs/MaximusLLM/lib/python3.11/site-packages (from uvicorn[standard]->vllm==0.5.1->bonito==0.0.1) (0.14.0)\n",
      "Requirement already satisfied: httptools>=0.5.0 in /home/franck/Applications/miniconda3/envs/MaximusLLM/lib/python3.11/site-packages (from uvicorn[standard]->vllm==0.5.1->bonito==0.0.1) (0.6.1)\n",
      "Requirement already satisfied: python-dotenv>=0.13 in /home/franck/Applications/miniconda3/envs/MaximusLLM/lib/python3.11/site-packages (from uvicorn[standard]->vllm==0.5.1->bonito==0.0.1) (1.0.1)\n",
      "Requirement already satisfied: uvloop!=0.15.0,!=0.15.1,>=0.14.0 in /home/franck/Applications/miniconda3/envs/MaximusLLM/lib/python3.11/site-packages (from uvicorn[standard]->vllm==0.5.1->bonito==0.0.1) (0.19.0)\n",
      "Requirement already satisfied: watchfiles>=0.13 in /home/franck/Applications/miniconda3/envs/MaximusLLM/lib/python3.11/site-packages (from uvicorn[standard]->vllm==0.5.1->bonito==0.0.1) (0.22.0)\n",
      "Requirement already satisfied: websockets>=10.4 in /home/franck/Applications/miniconda3/envs/MaximusLLM/lib/python3.11/site-packages (from uvicorn[standard]->vllm==0.5.1->bonito==0.0.1) (12.0)\n",
      "Requirement already satisfied: anyio<5,>=3.5.0 in /home/franck/Applications/miniconda3/envs/MaximusLLM/lib/python3.11/site-packages (from openai->vllm==0.5.1->bonito==0.0.1) (4.2.0)\n",
      "Requirement already satisfied: distro<2,>=1.7.0 in /home/franck/Applications/miniconda3/envs/MaximusLLM/lib/python3.11/site-packages (from openai->vllm==0.5.1->bonito==0.0.1) (1.9.0)\n",
      "Requirement already satisfied: sniffio in /home/franck/Applications/miniconda3/envs/MaximusLLM/lib/python3.11/site-packages (from openai->vllm==0.5.1->bonito==0.0.1) (1.3.0)\n",
      "Requirement already satisfied: python-dateutil>=2.8.2 in /home/franck/Applications/miniconda3/envs/MaximusLLM/lib/python3.11/site-packages (from pandas->datasets==2.20.0->bonito==0.0.1) (2.9.0.post0)\n",
      "Requirement already satisfied: pytz>=2020.1 in /home/franck/Applications/miniconda3/envs/MaximusLLM/lib/python3.11/site-packages (from pandas->datasets==2.20.0->bonito==0.0.1) (2024.1)\n",
      "Requirement already satisfied: tzdata>=2022.7 in /home/franck/Applications/miniconda3/envs/MaximusLLM/lib/python3.11/site-packages (from pandas->datasets==2.20.0->bonito==0.0.1) (2024.1)\n",
      "Requirement already satisfied: dnspython>=2.0.0 in /home/franck/Applications/miniconda3/envs/MaximusLLM/lib/python3.11/site-packages (from email_validator>=2.0.0->fastapi->vllm==0.5.1->bonito==0.0.1) (2.6.1)\n",
      "Requirement already satisfied: typer>=0.12.3 in /home/franck/Applications/miniconda3/envs/MaximusLLM/lib/python3.11/site-packages (from fastapi-cli>=0.0.2->fastapi->vllm==0.5.1->bonito==0.0.1) (0.12.3)\n",
      "Requirement already satisfied: httpcore==1.* in /home/franck/Applications/miniconda3/envs/MaximusLLM/lib/python3.11/site-packages (from httpx>=0.23.0->fastapi->vllm==0.5.1->bonito==0.0.1) (1.0.5)\n",
      "Requirement already satisfied: MarkupSafe>=2.0 in /home/franck/Applications/miniconda3/envs/MaximusLLM/lib/python3.11/site-packages (from jinja2->torch==2.3.0->vllm==0.5.1->bonito==0.0.1) (2.1.3)\n",
      "Requirement already satisfied: six>=1.5 in /home/franck/Applications/miniconda3/envs/MaximusLLM/lib/python3.11/site-packages (from python-dateutil>=2.8.2->pandas->datasets==2.20.0->bonito==0.0.1) (1.16.0)\n",
      "Requirement already satisfied: jsonschema-specifications>=2023.03.6 in /home/franck/Applications/miniconda3/envs/MaximusLLM/lib/python3.11/site-packages (from jsonschema->outlines>=0.0.43->vllm==0.5.1->bonito==0.0.1) (2023.7.1)\n",
      "Requirement already satisfied: rpds-py>=0.7.1 in /home/franck/Applications/miniconda3/envs/MaximusLLM/lib/python3.11/site-packages (from jsonschema->outlines>=0.0.43->vllm==0.5.1->bonito==0.0.1) (0.10.6)\n",
      "Requirement already satisfied: llvmlite<0.44,>=0.43.0dev0 in /home/franck/Applications/miniconda3/envs/MaximusLLM/lib/python3.11/site-packages (from numba->outlines>=0.0.43->vllm==0.5.1->bonito==0.0.1) (0.43.0)\n",
      "Requirement already satisfied: mpmath<1.4.0,>=1.1.0 in /home/franck/Applications/miniconda3/envs/MaximusLLM/lib/python3.11/site-packages (from sympy->torch==2.3.0->vllm==0.5.1->bonito==0.0.1) (1.3.0)\n",
      "Requirement already satisfied: shellingham>=1.3.0 in /home/franck/Applications/miniconda3/envs/MaximusLLM/lib/python3.11/site-packages (from typer>=0.12.3->fastapi-cli>=0.0.2->fastapi->vllm==0.5.1->bonito==0.0.1) (1.5.4)\n",
      "Requirement already satisfied: rich>=10.11.0 in /home/franck/Applications/miniconda3/envs/MaximusLLM/lib/python3.11/site-packages (from typer>=0.12.3->fastapi-cli>=0.0.2->fastapi->vllm==0.5.1->bonito==0.0.1) (13.7.1)\n",
      "Requirement already satisfied: markdown-it-py>=2.2.0 in /home/franck/Applications/miniconda3/envs/MaximusLLM/lib/python3.11/site-packages (from rich>=10.11.0->typer>=0.12.3->fastapi-cli>=0.0.2->fastapi->vllm==0.5.1->bonito==0.0.1) (3.0.0)\n",
      "Requirement already satisfied: pygments<3.0.0,>=2.13.0 in /home/franck/Applications/miniconda3/envs/MaximusLLM/lib/python3.11/site-packages (from rich>=10.11.0->typer>=0.12.3->fastapi-cli>=0.0.2->fastapi->vllm==0.5.1->bonito==0.0.1) (2.15.1)\n",
      "Requirement already satisfied: mdurl~=0.1 in /home/franck/Applications/miniconda3/envs/MaximusLLM/lib/python3.11/site-packages (from markdown-it-py>=2.2.0->rich>=10.11.0->typer>=0.12.3->fastapi-cli>=0.0.2->fastapi->vllm==0.5.1->bonito==0.0.1) (0.1.2)\n",
      "Building wheels for collected packages: bonito\n",
      "  Building wheel for bonito (setup.py) ... \u001b[?25ldone\n",
      "\u001b[?25h  Created wheel for bonito: filename=bonito-0.0.1-py3-none-any.whl size=4100 sha256=e179cd316587e23e2f650ad00acc657587cf52d32191879ef12c7258844c174e\n",
      "  Stored in directory: /tmp/pip-ephem-wheel-cache-njtmux10/wheels/70/79/bf/6c2ac6529bb8bd8e02588d1c16da544cc459259bda1f12e0f8\n",
      "Successfully built bonito\n",
      "Installing collected packages: bonito\n",
      "Successfully installed bonito-0.0.1\n"
     ]
    }
   ],
   "source": [
    "!pip install -U ../modules/bonito/"
   ]
  },
  {
   "cell_type": "markdown",
   "metadata": {},
   "source": [
    "## b) Import all the required libraries"
   ]
  },
  {
   "cell_type": "markdown",
   "metadata": {},
   "source": [
    "The following libraries are required:\n",
    "- **Os** library for interacting with the operating system\n",
    "- **Torch** library for deep learning used to retrain the Phi 3 model\n",
    "- **Bonito** library for processing the documents and creating the training dataset\n",
    "- **Fitz** library for PDF document handling\n",
    "- **Datasets** library for handling and processing datasets\n",
    "- **Spacy** library for natural language processing\n",
    "- **Pandas** library for data manipulation and analysis\n",
    "- **HuggingFace** library for accessing models and datasets\n"
   ]
  },
  {
   "cell_type": "code",
   "execution_count": 5,
   "metadata": {},
   "outputs": [],
   "source": [
    "import os\n",
    "import torch\n",
    "import bonito\n",
    "import fitz\n",
    "import datasets as ds\n",
    "import pandas as pd\n",
    "import huggingface_hub as hf"
   ]
  },
  {
   "cell_type": "markdown",
   "metadata": {},
   "source": [
    "Import the Spacy library for natural language processing"
   ]
  },
  {
   "cell_type": "code",
   "execution_count": 6,
   "metadata": {},
   "outputs": [
    {
     "name": "stdout",
     "output_type": "stream",
     "text": [
      "Collecting en-core-web-sm==3.7.1\n",
      "  Downloading https://github.com/explosion/spacy-models/releases/download/en_core_web_sm-3.7.1/en_core_web_sm-3.7.1-py3-none-any.whl (12.8 MB)\n",
      "\u001b[2K     \u001b[90m━━━━━━━━━━━━━━━━━━━━━━━━━━━━━━━━━━━━━━━━\u001b[0m \u001b[32m12.8/12.8 MB\u001b[0m \u001b[31m13.4 MB/s\u001b[0m eta \u001b[36m0:00:00\u001b[0m00:01\u001b[0m00:01\u001b[0m\n",
      "\u001b[?25hRequirement already satisfied: spacy<3.8.0,>=3.7.2 in /home/franck/Applications/miniconda3/envs/MaximusLLM/lib/python3.11/site-packages (from en-core-web-sm==3.7.1) (3.7.5)\n",
      "Requirement already satisfied: spacy-legacy<3.1.0,>=3.0.11 in /home/franck/Applications/miniconda3/envs/MaximusLLM/lib/python3.11/site-packages (from spacy<3.8.0,>=3.7.2->en-core-web-sm==3.7.1) (3.0.12)\n",
      "Requirement already satisfied: spacy-loggers<2.0.0,>=1.0.0 in /home/franck/Applications/miniconda3/envs/MaximusLLM/lib/python3.11/site-packages (from spacy<3.8.0,>=3.7.2->en-core-web-sm==3.7.1) (1.0.5)\n",
      "Requirement already satisfied: murmurhash<1.1.0,>=0.28.0 in /home/franck/Applications/miniconda3/envs/MaximusLLM/lib/python3.11/site-packages (from spacy<3.8.0,>=3.7.2->en-core-web-sm==3.7.1) (1.0.10)\n",
      "Requirement already satisfied: cymem<2.1.0,>=2.0.2 in /home/franck/Applications/miniconda3/envs/MaximusLLM/lib/python3.11/site-packages (from spacy<3.8.0,>=3.7.2->en-core-web-sm==3.7.1) (2.0.8)\n",
      "Requirement already satisfied: preshed<3.1.0,>=3.0.2 in /home/franck/Applications/miniconda3/envs/MaximusLLM/lib/python3.11/site-packages (from spacy<3.8.0,>=3.7.2->en-core-web-sm==3.7.1) (3.0.9)\n",
      "Requirement already satisfied: thinc<8.3.0,>=8.2.2 in /home/franck/Applications/miniconda3/envs/MaximusLLM/lib/python3.11/site-packages (from spacy<3.8.0,>=3.7.2->en-core-web-sm==3.7.1) (8.2.5)\n",
      "Requirement already satisfied: wasabi<1.2.0,>=0.9.1 in /home/franck/Applications/miniconda3/envs/MaximusLLM/lib/python3.11/site-packages (from spacy<3.8.0,>=3.7.2->en-core-web-sm==3.7.1) (1.1.3)\n",
      "Requirement already satisfied: srsly<3.0.0,>=2.4.3 in /home/franck/Applications/miniconda3/envs/MaximusLLM/lib/python3.11/site-packages (from spacy<3.8.0,>=3.7.2->en-core-web-sm==3.7.1) (2.4.8)\n",
      "Requirement already satisfied: catalogue<2.1.0,>=2.0.6 in /home/franck/Applications/miniconda3/envs/MaximusLLM/lib/python3.11/site-packages (from spacy<3.8.0,>=3.7.2->en-core-web-sm==3.7.1) (2.0.10)\n",
      "Requirement already satisfied: weasel<0.5.0,>=0.1.0 in /home/franck/Applications/miniconda3/envs/MaximusLLM/lib/python3.11/site-packages (from spacy<3.8.0,>=3.7.2->en-core-web-sm==3.7.1) (0.4.1)\n",
      "Requirement already satisfied: typer<1.0.0,>=0.3.0 in /home/franck/Applications/miniconda3/envs/MaximusLLM/lib/python3.11/site-packages (from spacy<3.8.0,>=3.7.2->en-core-web-sm==3.7.1) (0.12.3)\n",
      "Requirement already satisfied: tqdm<5.0.0,>=4.38.0 in /home/franck/Applications/miniconda3/envs/MaximusLLM/lib/python3.11/site-packages (from spacy<3.8.0,>=3.7.2->en-core-web-sm==3.7.1) (4.66.4)\n",
      "Requirement already satisfied: requests<3.0.0,>=2.13.0 in /home/franck/Applications/miniconda3/envs/MaximusLLM/lib/python3.11/site-packages (from spacy<3.8.0,>=3.7.2->en-core-web-sm==3.7.1) (2.32.2)\n",
      "Requirement already satisfied: pydantic!=1.8,!=1.8.1,<3.0.0,>=1.7.4 in /home/franck/Applications/miniconda3/envs/MaximusLLM/lib/python3.11/site-packages (from spacy<3.8.0,>=3.7.2->en-core-web-sm==3.7.1) (2.6.1)\n",
      "Requirement already satisfied: jinja2 in /home/franck/Applications/miniconda3/envs/MaximusLLM/lib/python3.11/site-packages (from spacy<3.8.0,>=3.7.2->en-core-web-sm==3.7.1) (3.1.4)\n",
      "Requirement already satisfied: setuptools in /home/franck/Applications/miniconda3/envs/MaximusLLM/lib/python3.11/site-packages (from spacy<3.8.0,>=3.7.2->en-core-web-sm==3.7.1) (69.5.1)\n",
      "Requirement already satisfied: packaging>=20.0 in /home/franck/Applications/miniconda3/envs/MaximusLLM/lib/python3.11/site-packages (from spacy<3.8.0,>=3.7.2->en-core-web-sm==3.7.1) (24.1)\n",
      "Requirement already satisfied: langcodes<4.0.0,>=3.2.0 in /home/franck/Applications/miniconda3/envs/MaximusLLM/lib/python3.11/site-packages (from spacy<3.8.0,>=3.7.2->en-core-web-sm==3.7.1) (3.4.0)\n",
      "Requirement already satisfied: numpy>=1.19.0 in /home/franck/Applications/miniconda3/envs/MaximusLLM/lib/python3.11/site-packages (from spacy<3.8.0,>=3.7.2->en-core-web-sm==3.7.1) (1.26.4)\n",
      "Requirement already satisfied: language-data>=1.2 in /home/franck/Applications/miniconda3/envs/MaximusLLM/lib/python3.11/site-packages (from langcodes<4.0.0,>=3.2.0->spacy<3.8.0,>=3.7.2->en-core-web-sm==3.7.1) (1.2.0)\n",
      "Requirement already satisfied: annotated-types>=0.4.0 in /home/franck/Applications/miniconda3/envs/MaximusLLM/lib/python3.11/site-packages (from pydantic!=1.8,!=1.8.1,<3.0.0,>=1.7.4->spacy<3.8.0,>=3.7.2->en-core-web-sm==3.7.1) (0.7.0)\n",
      "Requirement already satisfied: pydantic-core==2.16.2 in /home/franck/Applications/miniconda3/envs/MaximusLLM/lib/python3.11/site-packages (from pydantic!=1.8,!=1.8.1,<3.0.0,>=1.7.4->spacy<3.8.0,>=3.7.2->en-core-web-sm==3.7.1) (2.16.2)\n",
      "Requirement already satisfied: typing-extensions>=4.6.1 in /home/franck/Applications/miniconda3/envs/MaximusLLM/lib/python3.11/site-packages (from pydantic!=1.8,!=1.8.1,<3.0.0,>=1.7.4->spacy<3.8.0,>=3.7.2->en-core-web-sm==3.7.1) (4.11.0)\n",
      "Requirement already satisfied: charset-normalizer<4,>=2 in /home/franck/Applications/miniconda3/envs/MaximusLLM/lib/python3.11/site-packages (from requests<3.0.0,>=2.13.0->spacy<3.8.0,>=3.7.2->en-core-web-sm==3.7.1) (2.0.4)\n",
      "Requirement already satisfied: idna<4,>=2.5 in /home/franck/Applications/miniconda3/envs/MaximusLLM/lib/python3.11/site-packages (from requests<3.0.0,>=2.13.0->spacy<3.8.0,>=3.7.2->en-core-web-sm==3.7.1) (3.7)\n",
      "Requirement already satisfied: urllib3<3,>=1.21.1 in /home/franck/Applications/miniconda3/envs/MaximusLLM/lib/python3.11/site-packages (from requests<3.0.0,>=2.13.0->spacy<3.8.0,>=3.7.2->en-core-web-sm==3.7.1) (2.2.2)\n",
      "Requirement already satisfied: certifi>=2017.4.17 in /home/franck/Applications/miniconda3/envs/MaximusLLM/lib/python3.11/site-packages (from requests<3.0.0,>=2.13.0->spacy<3.8.0,>=3.7.2->en-core-web-sm==3.7.1) (2024.6.2)\n",
      "Requirement already satisfied: blis<0.8.0,>=0.7.8 in /home/franck/Applications/miniconda3/envs/MaximusLLM/lib/python3.11/site-packages (from thinc<8.3.0,>=8.2.2->spacy<3.8.0,>=3.7.2->en-core-web-sm==3.7.1) (0.7.11)\n",
      "Requirement already satisfied: confection<1.0.0,>=0.0.1 in /home/franck/Applications/miniconda3/envs/MaximusLLM/lib/python3.11/site-packages (from thinc<8.3.0,>=8.2.2->spacy<3.8.0,>=3.7.2->en-core-web-sm==3.7.1) (0.1.5)\n",
      "Requirement already satisfied: click>=8.0.0 in /home/franck/Applications/miniconda3/envs/MaximusLLM/lib/python3.11/site-packages (from typer<1.0.0,>=0.3.0->spacy<3.8.0,>=3.7.2->en-core-web-sm==3.7.1) (8.1.7)\n",
      "Requirement already satisfied: shellingham>=1.3.0 in /home/franck/Applications/miniconda3/envs/MaximusLLM/lib/python3.11/site-packages (from typer<1.0.0,>=0.3.0->spacy<3.8.0,>=3.7.2->en-core-web-sm==3.7.1) (1.5.4)\n",
      "Requirement already satisfied: rich>=10.11.0 in /home/franck/Applications/miniconda3/envs/MaximusLLM/lib/python3.11/site-packages (from typer<1.0.0,>=0.3.0->spacy<3.8.0,>=3.7.2->en-core-web-sm==3.7.1) (13.7.1)\n",
      "Requirement already satisfied: cloudpathlib<1.0.0,>=0.7.0 in /home/franck/Applications/miniconda3/envs/MaximusLLM/lib/python3.11/site-packages (from weasel<0.5.0,>=0.1.0->spacy<3.8.0,>=3.7.2->en-core-web-sm==3.7.1) (0.18.1)\n",
      "Requirement already satisfied: smart-open<8.0.0,>=5.2.1 in /home/franck/Applications/miniconda3/envs/MaximusLLM/lib/python3.11/site-packages (from weasel<0.5.0,>=0.1.0->spacy<3.8.0,>=3.7.2->en-core-web-sm==3.7.1) (7.0.4)\n",
      "Requirement already satisfied: MarkupSafe>=2.0 in /home/franck/Applications/miniconda3/envs/MaximusLLM/lib/python3.11/site-packages (from jinja2->spacy<3.8.0,>=3.7.2->en-core-web-sm==3.7.1) (2.1.3)\n",
      "Requirement already satisfied: marisa-trie>=0.7.7 in /home/franck/Applications/miniconda3/envs/MaximusLLM/lib/python3.11/site-packages (from language-data>=1.2->langcodes<4.0.0,>=3.2.0->spacy<3.8.0,>=3.7.2->en-core-web-sm==3.7.1) (1.2.0)\n",
      "Requirement already satisfied: markdown-it-py>=2.2.0 in /home/franck/Applications/miniconda3/envs/MaximusLLM/lib/python3.11/site-packages (from rich>=10.11.0->typer<1.0.0,>=0.3.0->spacy<3.8.0,>=3.7.2->en-core-web-sm==3.7.1) (3.0.0)\n",
      "Requirement already satisfied: pygments<3.0.0,>=2.13.0 in /home/franck/Applications/miniconda3/envs/MaximusLLM/lib/python3.11/site-packages (from rich>=10.11.0->typer<1.0.0,>=0.3.0->spacy<3.8.0,>=3.7.2->en-core-web-sm==3.7.1) (2.15.1)\n",
      "Requirement already satisfied: wrapt in /home/franck/Applications/miniconda3/envs/MaximusLLM/lib/python3.11/site-packages (from smart-open<8.0.0,>=5.2.1->weasel<0.5.0,>=0.1.0->spacy<3.8.0,>=3.7.2->en-core-web-sm==3.7.1) (1.16.0)\n",
      "Requirement already satisfied: mdurl~=0.1 in /home/franck/Applications/miniconda3/envs/MaximusLLM/lib/python3.11/site-packages (from markdown-it-py>=2.2.0->rich>=10.11.0->typer<1.0.0,>=0.3.0->spacy<3.8.0,>=3.7.2->en-core-web-sm==3.7.1) (0.1.2)\n",
      "\u001b[38;5;2m✔ Download and installation successful\u001b[0m\n",
      "You can now load the package via spacy.load('en_core_web_sm')\n"
     ]
    }
   ],
   "source": [
    "!python -m spacy download en_core_web_sm\n",
    "import spacy"
   ]
  }
 ],
 "metadata": {
  "kernelspec": {
   "display_name": "MaximusLLM",
   "language": "python",
   "name": "python3"
  },
  "language_info": {
   "codemirror_mode": {
    "name": "ipython",
    "version": 3
   },
   "file_extension": ".py",
   "mimetype": "text/x-python",
   "name": "python",
   "nbconvert_exporter": "python",
   "pygments_lexer": "ipython3",
   "version": "3.11.9"
  }
 },
 "nbformat": 4,
 "nbformat_minor": 2
}
